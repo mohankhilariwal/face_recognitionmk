{
 "cells": [
  {
   "cell_type": "markdown",
   "metadata": {},
   "source": [
    "## 1. Data Loading and Preprocessing\n",
    "\n",
    "After Trying several times in Google Colaboratory etc finally able to execute this model on AWS with the given data. It took about 24 hours for compelte execution."
   ]
  },
  {
   "cell_type": "code",
   "execution_count": 1,
   "metadata": {},
   "outputs": [
    {
     "name": "stderr",
     "output_type": "stream",
     "text": [
      "Using TensorFlow backend.\n"
     ]
    }
   ],
   "source": [
    "# import necessary libraries and functions\n",
    "%matplotlib inline\n",
    "\n",
    "import numpy as np\n",
    "import pandas as pd\n",
    "from glob import glob\n",
    "import matplotlib.pyplot as plt\n",
    "\n",
    "from keras.layers import Dense\n",
    "from keras.models import Sequential\n",
    "from keras.preprocessing import image\n",
    "\n",
    "from sklearn.model_selection import train_test_split\n"
   ]
  },
  {
   "cell_type": "code",
   "execution_count": 2,
   "metadata": {},
   "outputs": [],
   "source": [
    "# create random number generator\n",
    "seed = 42\n",
    "rng = np.random.RandomState(seed)\n"
   ]
  },
  {
   "cell_type": "code",
   "execution_count": 6,
   "metadata": {},
   "outputs": [],
   "source": [
    "# load csv file\n",
    "data = pd.read_csv('face_recognition/train.csv')\n"
   ]
  },
  {
   "cell_type": "code",
   "execution_count": 7,
   "metadata": {},
   "outputs": [],
   "source": [
    "# load images and store it in numpy array\n",
    "X = []\n",
    "for img_name in data.image_names:\n",
    "    img = plt.imread('face_recognition/images/' + img_name)\n",
    "    X.append(img)\n",
    "    \n",
    "X=np.array(X)\n",
    "\n",
    "# create target\n",
    "y = data.gender_class.values\n"
   ]
  },
  {
   "cell_type": "code",
   "execution_count": 8,
   "metadata": {},
   "outputs": [],
   "source": [
    "# reshape to one single row\n",
    "X = X.reshape(12196, 224*224*3)\n"
   ]
  },
  {
   "cell_type": "code",
   "execution_count": 9,
   "metadata": {},
   "outputs": [],
   "source": [
    "# preprocessing\n",
    "X = X / X.max()\n"
   ]
  },
  {
   "cell_type": "code",
   "execution_count": 10,
   "metadata": {},
   "outputs": [],
   "source": [
    "# set aside validation data\n",
    "X_train, X_valid, y_train, y_valid=train_test_split(X,y,test_size=0.3, random_state=seed)\n"
   ]
  },
  {
   "cell_type": "markdown",
   "metadata": {},
   "source": [
    "## 2. Model Building"
   ]
  },
  {
   "cell_type": "code",
   "execution_count": 11,
   "metadata": {},
   "outputs": [
    {
     "name": "stdout",
     "output_type": "stream",
     "text": [
      "WARNING:tensorflow:From //anaconda3/lib/python3.7/site-packages/keras/backend/tensorflow_backend.py:66: The name tf.get_default_graph is deprecated. Please use tf.compat.v1.get_default_graph instead.\n",
      "\n",
      "WARNING:tensorflow:From //anaconda3/lib/python3.7/site-packages/keras/backend/tensorflow_backend.py:541: The name tf.placeholder is deprecated. Please use tf.compat.v1.placeholder instead.\n",
      "\n",
      "WARNING:tensorflow:From //anaconda3/lib/python3.7/site-packages/keras/backend/tensorflow_backend.py:4432: The name tf.random_uniform is deprecated. Please use tf.random.uniform instead.\n",
      "\n",
      "WARNING:tensorflow:From //anaconda3/lib/python3.7/site-packages/keras/optimizers.py:793: The name tf.train.Optimizer is deprecated. Please use tf.compat.v1.train.Optimizer instead.\n",
      "\n",
      "WARNING:tensorflow:From //anaconda3/lib/python3.7/site-packages/keras/backend/tensorflow_backend.py:3657: The name tf.log is deprecated. Please use tf.math.log instead.\n",
      "\n",
      "WARNING:tensorflow:From //anaconda3/lib/python3.7/site-packages/tensorflow/python/ops/nn_impl.py:180: add_dispatch_support.<locals>.wrapper (from tensorflow.python.ops.array_ops) is deprecated and will be removed in a future version.\n",
      "Instructions for updating:\n",
      "Use tf.where in 2.0, which has the same broadcast rule as np.where\n"
     ]
    }
   ],
   "source": [
    "model=Sequential()\n",
    "\n",
    "model.add(Dense(100, input_dim=224*224*3, activation='sigmoid'))\n",
    "model.add(Dense(units=1, activation='sigmoid'))\n",
    "\n",
    "model.compile(loss='binary_crossentropy', optimizer=\"sgd\", metrics=['accuracy'])\n"
   ]
  },
  {
   "cell_type": "code",
   "execution_count": 12,
   "metadata": {},
   "outputs": [
    {
     "name": "stdout",
     "output_type": "stream",
     "text": [
      "Model: \"sequential_1\"\n",
      "_________________________________________________________________\n",
      "Layer (type)                 Output Shape              Param #   \n",
      "=================================================================\n",
      "dense_1 (Dense)              (None, 100)               15052900  \n",
      "_________________________________________________________________\n",
      "dense_2 (Dense)              (None, 1)                 101       \n",
      "=================================================================\n",
      "Total params: 15,053,001\n",
      "Trainable params: 15,053,001\n",
      "Non-trainable params: 0\n",
      "_________________________________________________________________\n"
     ]
    }
   ],
   "source": [
    "model.summary()\n"
   ]
  },
  {
   "cell_type": "code",
   "execution_count": 13,
   "metadata": {},
   "outputs": [
    {
     "name": "stdout",
     "output_type": "stream",
     "text": [
      "WARNING:tensorflow:From //anaconda3/lib/python3.7/site-packages/keras/backend/tensorflow_backend.py:1033: The name tf.assign_add is deprecated. Please use tf.compat.v1.assign_add instead.\n",
      "\n",
      "Train on 8537 samples, validate on 3659 samples\n",
      "Epoch 1/10\n",
      "8537/8537 [==============================] - 797s 93ms/step - loss: 0.6860 - acc: 0.6109 - val_loss: 0.8858 - val_acc: 0.4870\n",
      "Epoch 2/10\n",
      "8537/8537 [==============================] - 1272s 149ms/step - loss: 0.5908 - acc: 0.6913 - val_loss: 0.7134 - val_acc: 0.5802\n",
      "Epoch 3/10\n",
      "8537/8537 [==============================] - 1469s 172ms/step - loss: 0.5674 - acc: 0.7079 - val_loss: 0.5312 - val_acc: 0.7404\n",
      "Epoch 4/10\n",
      "8537/8537 [==============================] - 1156s 135ms/step - loss: 0.5514 - acc: 0.7245 - val_loss: 0.5203 - val_acc: 0.7426\n",
      "Epoch 5/10\n",
      "8537/8537 [==============================] - 777s 91ms/step - loss: 0.5420 - acc: 0.7284 - val_loss: 0.5199 - val_acc: 0.7480\n",
      "Epoch 6/10\n",
      "8537/8537 [==============================] - 838s 98ms/step - loss: 0.5217 - acc: 0.7403 - val_loss: 0.5620 - val_acc: 0.7037\n",
      "Epoch 7/10\n",
      "8537/8537 [==============================] - 790s 93ms/step - loss: 0.5140 - acc: 0.7517 - val_loss: 0.4972 - val_acc: 0.7625\n",
      "Epoch 8/10\n",
      "8537/8537 [==============================] - 978s 115ms/step - loss: 0.5216 - acc: 0.7412 - val_loss: 0.5980 - val_acc: 0.6863\n",
      "Epoch 9/10\n",
      "8537/8537 [==============================] - 855s 100ms/step - loss: 0.5074 - acc: 0.7513 - val_loss: 0.4984 - val_acc: 0.7543\n",
      "Epoch 10/10\n",
      "8537/8537 [==============================] - 878s 103ms/step - loss: 0.5002 - acc: 0.7557 - val_loss: 0.5020 - val_acc: 0.7461\n"
     ]
    },
    {
     "data": {
      "text/plain": [
       "<keras.callbacks.History at 0x1a3a21f470>"
      ]
     },
     "execution_count": 13,
     "metadata": {},
     "output_type": "execute_result"
    }
   ],
   "source": [
    "model.fit(X_train, y_train, epochs=10, batch_size=128,validation_data=(X_valid,y_valid))\n"
   ]
  },
  {
   "cell_type": "code",
   "execution_count": 44,
   "metadata": {},
   "outputs": [
    {
     "name": "stdout",
     "output_type": "stream",
     "text": [
      "8 % sure that it is male\n",
      "Whereas actual class is  0\n"
     ]
    },
    {
     "data": {
      "text/plain": [
       "<matplotlib.image.AxesImage at 0x1af30ada90>"
      ]
     },
     "execution_count": 44,
     "metadata": {},
     "output_type": "execute_result"
    },
    {
     "data": {
      "image/png": "[encoded data removed]",
      "text/plain": [
       "<Figure size 432x288 with 1 Axes>"
      ]
     },
     "metadata": {
      "needs_background": "light"
     },
     "output_type": "display_data"
    }
   ],
   "source": [
    "# get predictions\n",
    "predictions = model.predict_classes(X_valid)[:, 0]\n",
    "prediction_probabilities = model.predict(X_valid)[:, 0]\n",
    "\n",
    "# pull out the original images from the data\n",
    "# which correspond to the validation data\n",
    "_, valid_male, _, valid_y = train_test_split(data.image_names.values, y, test_size=0.3, random_state=seed)\n",
    "\n",
    "# get a random index to plot image randomly\n",
    "index = rng.choice(range(len(valid_male)))\n",
    "\n",
    "# get the corresponding image name and probability\n",
    "img_name = valid_male[index]\n",
    "prob = (prediction_probabilities * 100).astype(int)[index]\n",
    "\n",
    "# read the image\n",
    "img = plt.imread('face_recognition/images/' + img_name)\n",
    "\n",
    "# print probability and actual class\n",
    "print(prob , '% sure that it is male')\n",
    "print('Whereas actual class is ', valid_y[index])\n",
    "\n",
    "# plot image\n",
    "plt.imshow(img)\n"
   ]
  },
  {
   "cell_type": "code",
   "execution_count": 16,
   "metadata": {},
   "outputs": [],
   "source": [
    "incorrect_indices = np.where(predictions != y_valid)[0]\n"
   ]
  },
  {
   "cell_type": "code",
   "execution_count": 17,
   "metadata": {},
   "outputs": [
    {
     "data": {
      "text/plain": [
       "(929, (3659,))"
      ]
     },
     "execution_count": 17,
     "metadata": {},
     "output_type": "execute_result"
    }
   ],
   "source": [
    "len(incorrect_indices), predictions.shape\n"
   ]
  },
  {
   "cell_type": "code",
   "execution_count": 46,
   "metadata": {},
   "outputs": [
    {
     "name": "stdout",
     "output_type": "stream",
     "text": [
      "79 % sure that it is female\n",
      "Whereas actual class is  0\n"
     ]
    },
    {
     "data": {
      "text/plain": [
       "<matplotlib.image.AxesImage at 0x1aef5ee4e0>"
      ]
     },
     "execution_count": 46,
     "metadata": {},
     "output_type": "execute_result"
    },
    {
     "data": {
      "image/png": "[encoded data removed]",
      "text/plain": [
       "<Figure size 432x288 with 1 Axes>"
      ]
     },
     "metadata": {
      "needs_background": "light"
     },
     "output_type": "display_data"
    }
   ],
   "source": [
    "index = rng.choice(incorrect_indices)\n",
    "img_name = valid_male[index]\n",
    "\n",
    "\n",
    "prob = (prediction_probabilities * 100).astype(int)[index]\n",
    "\n",
    "img = plt.imread('face_recognition/images/' + img_name)\n",
    "\n",
    "print(prob , '% sure that it is female')\n",
    "print('Whereas actual class is ', y_valid[index])\n",
    "\n",
    "plt.imshow(img)\n"
   ]
  },
  {
   "cell_type": "markdown",
   "metadata": {},
   "source": [
    "## 3. Hyperparameter Tuning"
   ]
  },
  {
   "cell_type": "markdown",
   "metadata": {},
   "source": [
    "Weights of neural network ----> Parameter\n",
    "\n",
    "Activation Function ----> HyperParameter"
   ]
  },
  {
   "cell_type": "code",
   "execution_count": 19,
   "metadata": {},
   "outputs": [],
   "source": [
    "# change activation function of hidden layer\n",
    "# increase hidden neurons\n",
    "# increase hidden layers\n",
    "# increase number of epochs\n",
    "# change optimizer\n"
   ]
  },
  {
   "cell_type": "code",
   "execution_count": 20,
   "metadata": {},
   "outputs": [],
   "source": [
    "# change activation function of hidden layer\n",
    "model=Sequential()\n",
    "\n",
    "model.add(Dense(100, input_dim=224*224*3, activation='tanh'))\n",
    "model.add(Dense(units=1, activation='sigmoid'))\n",
    "\n",
    "model.compile(loss='binary_crossentropy', optimizer=\"sgd\", metrics=['accuracy'])\n"
   ]
  },
  {
   "cell_type": "code",
   "execution_count": 21,
   "metadata": {
    "scrolled": true
   },
   "outputs": [
    {
     "name": "stdout",
     "output_type": "stream",
     "text": [
      "Train on 8537 samples, validate on 3659 samples\n",
      "Epoch 1/10\n",
      "8537/8537 [==============================] - 753s 88ms/step - loss: 1.2487 - acc: 0.5366 - val_loss: 0.6698 - val_acc: 0.6772\n",
      "Epoch 2/10\n",
      "8537/8537 [==============================] - 921s 108ms/step - loss: 0.6562 - acc: 0.6180 - val_loss: 0.6319 - val_acc: 0.6267\n",
      "Epoch 3/10\n",
      "8537/8537 [==============================] - 781s 91ms/step - loss: 0.6199 - acc: 0.6636 - val_loss: 0.5886 - val_acc: 0.6808\n",
      "Epoch 4/10\n",
      "8537/8537 [==============================] - 837s 98ms/step - loss: 0.6010 - acc: 0.6814 - val_loss: 0.6192 - val_acc: 0.6606\n",
      "Epoch 5/10\n",
      "8537/8537 [==============================] - 779s 91ms/step - loss: 0.5698 - acc: 0.7108 - val_loss: 0.5519 - val_acc: 0.7242\n",
      "Epoch 6/10\n",
      "8537/8537 [==============================] - 822s 96ms/step - loss: 0.5518 - acc: 0.7234 - val_loss: 0.7153 - val_acc: 0.5635\n",
      "Epoch 7/10\n",
      "8537/8537 [==============================] - 765s 90ms/step - loss: 0.5363 - acc: 0.7356 - val_loss: 0.5144 - val_acc: 0.7524\n",
      "Epoch 8/10\n",
      "8537/8537 [==============================] - 937s 110ms/step - loss: 0.5378 - acc: 0.7300 - val_loss: 0.4971 - val_acc: 0.7633\n",
      "Epoch 9/10\n",
      "8537/8537 [==============================] - 875s 103ms/step - loss: 0.5160 - acc: 0.7493 - val_loss: 0.5143 - val_acc: 0.7693\n",
      "Epoch 10/10\n",
      "8537/8537 [==============================] - 954s 112ms/step - loss: 0.5236 - acc: 0.7371 - val_loss: 0.5171 - val_acc: 0.7447\n"
     ]
    },
    {
     "data": {
      "text/plain": [
       "<keras.callbacks.History at 0x1a3a9a6d68>"
      ]
     },
     "execution_count": 21,
     "metadata": {},
     "output_type": "execute_result"
    }
   ],
   "source": [
    "model.fit(X_train, y_train, epochs=10, batch_size=128,validation_data=(X_valid,y_valid))\n"
   ]
  },
  {
   "cell_type": "code",
   "execution_count": 22,
   "metadata": {},
   "outputs": [],
   "source": [
    "# increase hidden neurons\n",
    "model=Sequential()\n",
    "\n",
    "model.add(Dense(1024, input_dim=224*224*3, activation='sigmoid'))\n",
    "model.add(Dense(units=1, activation='sigmoid'))\n",
    "\n",
    "model.compile(loss='binary_crossentropy', optimizer=\"sgd\", metrics=['accuracy'])\n"
   ]
  },
  {
   "cell_type": "code",
   "execution_count": 23,
   "metadata": {},
   "outputs": [
    {
     "name": "stdout",
     "output_type": "stream",
     "text": [
      "Train on 8537 samples, validate on 3659 samples\n",
      "Epoch 1/10\n",
      "8537/8537 [==============================] - 1875s 220ms/step - loss: 0.8473 - acc: 0.5806 - val_loss: 0.6091 - val_acc: 0.6783\n",
      "Epoch 2/10\n",
      "8537/8537 [==============================] - 1245s 146ms/step - loss: 0.6226 - acc: 0.6521 - val_loss: 0.6903 - val_acc: 0.5849\n",
      "Epoch 3/10\n",
      "8537/8537 [==============================] - 1104s 129ms/step - loss: 0.6037 - acc: 0.6835 - val_loss: 0.5829 - val_acc: 0.6791\n",
      "Epoch 4/10\n",
      "8537/8537 [==============================] - 1241s 145ms/step - loss: 0.5779 - acc: 0.6942 - val_loss: 0.5394 - val_acc: 0.7294\n",
      "Epoch 5/10\n",
      "8537/8537 [==============================] - 1064s 125ms/step - loss: 0.5609 - acc: 0.7170 - val_loss: 0.5435 - val_acc: 0.7169\n",
      "Epoch 6/10\n",
      "8537/8537 [==============================] - 991s 116ms/step - loss: 0.5495 - acc: 0.7183 - val_loss: 0.5414 - val_acc: 0.7158\n",
      "Epoch 7/10\n",
      "8537/8537 [==============================] - 1034s 121ms/step - loss: 0.5485 - acc: 0.7224 - val_loss: 0.5111 - val_acc: 0.7488\n",
      "Epoch 8/10\n",
      "8537/8537 [==============================] - 1073s 126ms/step - loss: 0.5441 - acc: 0.7315 - val_loss: 0.5453 - val_acc: 0.7360\n",
      "Epoch 9/10\n",
      "8537/8537 [==============================] - 1109s 130ms/step - loss: 0.5230 - acc: 0.7432 - val_loss: 0.5989 - val_acc: 0.6991\n",
      "Epoch 10/10\n",
      "8537/8537 [==============================] - 1091s 128ms/step - loss: 0.5038 - acc: 0.7571 - val_loss: 0.5206 - val_acc: 0.7554\n"
     ]
    },
    {
     "data": {
      "text/plain": [
       "<keras.callbacks.History at 0x1a3ad68358>"
      ]
     },
     "execution_count": 23,
     "metadata": {},
     "output_type": "execute_result"
    }
   ],
   "source": [
    "model.fit(X_train, y_train, epochs=10, batch_size=128,validation_data=(X_valid,y_valid))\n"
   ]
  },
  {
   "cell_type": "code",
   "execution_count": 24,
   "metadata": {},
   "outputs": [],
   "source": [
    "# increase number of epochs\n",
    "model=Sequential()\n",
    "\n",
    "model.add(Dense(1024, input_dim=224*224*3, activation='sigmoid'))\n",
    "model.add(Dense(units=1, activation='sigmoid'))\n",
    "\n",
    "model.compile(loss='binary_crossentropy', optimizer=\"sgd\", metrics=['accuracy'])\n"
   ]
  },
  {
   "cell_type": "code",
   "execution_count": 25,
   "metadata": {},
   "outputs": [
    {
     "name": "stdout",
     "output_type": "stream",
     "text": [
      "Train on 8537 samples, validate on 3659 samples\n",
      "Epoch 1/50\n",
      "8537/8537 [==============================] - 934s 109ms/step - loss: 0.8426 - acc: 0.6038 - val_loss: 0.5940 - val_acc: 0.6972\n",
      "Epoch 2/50\n",
      "8537/8537 [==============================] - 915s 107ms/step - loss: 0.6280 - acc: 0.6576 - val_loss: 0.6022 - val_acc: 0.6775\n",
      "Epoch 3/50\n",
      "8537/8537 [==============================] - 908s 106ms/step - loss: 0.5867 - acc: 0.6890 - val_loss: 0.5638 - val_acc: 0.7013\n",
      "Epoch 4/50\n",
      "8537/8537 [==============================] - 919s 108ms/step - loss: 0.5795 - acc: 0.6998 - val_loss: 0.5997 - val_acc: 0.6578\n",
      "Epoch 5/50\n",
      "8537/8537 [==============================] - 991s 116ms/step - loss: 0.5508 - acc: 0.7203 - val_loss: 0.5344 - val_acc: 0.7272\n",
      "Epoch 6/50\n",
      "8537/8537 [==============================] - 911s 107ms/step - loss: 0.5582 - acc: 0.7171 - val_loss: 0.5327 - val_acc: 0.7428\n",
      "Epoch 7/50\n",
      "8537/8537 [==============================] - 849s 99ms/step - loss: 0.5457 - acc: 0.7299 - val_loss: 0.5234 - val_acc: 0.7486\n",
      "Epoch 8/50\n",
      "8537/8537 [==============================] - 946s 111ms/step - loss: 0.5507 - acc: 0.7224 - val_loss: 0.5653 - val_acc: 0.6947\n",
      "Epoch 9/50\n",
      "8537/8537 [==============================] - 860s 101ms/step - loss: 0.5164 - acc: 0.7512 - val_loss: 0.5640 - val_acc: 0.7223\n",
      "Epoch 10/50\n",
      "8537/8537 [==============================] - 783s 92ms/step - loss: 0.5138 - acc: 0.7559 - val_loss: 0.6534 - val_acc: 0.6734\n",
      "Epoch 11/50\n",
      "8537/8537 [==============================] - 770s 90ms/step - loss: 0.5112 - acc: 0.7485 - val_loss: 0.4952 - val_acc: 0.7516\n",
      "Epoch 12/50\n",
      "8537/8537 [==============================] - 5832s 683ms/step - loss: 0.5128 - acc: 0.7472 - val_loss: 0.6034 - val_acc: 0.7010\n",
      "Epoch 13/50\n",
      "8537/8537 [==============================] - 866s 101ms/step - loss: 0.5132 - acc: 0.7546 - val_loss: 0.4943 - val_acc: 0.7521\n",
      "Epoch 14/50\n",
      "8537/8537 [==============================] - 841s 99ms/step - loss: 0.5058 - acc: 0.7567 - val_loss: 0.4854 - val_acc: 0.7644\n",
      "Epoch 15/50\n",
      "8537/8537 [==============================] - 829s 97ms/step - loss: 0.5039 - acc: 0.7527 - val_loss: 0.5092 - val_acc: 0.7409\n",
      "Epoch 16/50\n",
      "8537/8537 [==============================] - 745s 87ms/step - loss: 0.4991 - acc: 0.7595 - val_loss: 0.6811 - val_acc: 0.6630\n",
      "Epoch 17/50\n",
      "8537/8537 [==============================] - 795s 93ms/step - loss: 0.5036 - acc: 0.7585 - val_loss: 0.4832 - val_acc: 0.7732\n",
      "Epoch 18/50\n",
      "8537/8537 [==============================] - 778s 91ms/step - loss: 0.5085 - acc: 0.7518 - val_loss: 0.4827 - val_acc: 0.7732\n",
      "Epoch 19/50\n",
      "8537/8537 [==============================] - 746s 87ms/step - loss: 0.4835 - acc: 0.7650 - val_loss: 0.4839 - val_acc: 0.7734\n",
      "Epoch 20/50\n",
      "8537/8537 [==============================] - 934s 109ms/step - loss: 0.4826 - acc: 0.7722 - val_loss: 0.5414 - val_acc: 0.7420\n",
      "Epoch 21/50\n",
      "8537/8537 [==============================] - 775s 91ms/step - loss: 0.4956 - acc: 0.7635 - val_loss: 0.4713 - val_acc: 0.7759\n",
      "Epoch 22/50\n",
      "8537/8537 [==============================] - 1022s 120ms/step - loss: 0.4745 - acc: 0.7804 - val_loss: 0.4675 - val_acc: 0.7797\n",
      "Epoch 23/50\n",
      "8537/8537 [==============================] - 838s 98ms/step - loss: 0.4705 - acc: 0.7844 - val_loss: 0.5034 - val_acc: 0.7387\n",
      "Epoch 24/50\n",
      "8537/8537 [==============================] - 884s 104ms/step - loss: 0.4691 - acc: 0.7792 - val_loss: 0.4618 - val_acc: 0.7830\n",
      "Epoch 25/50\n",
      "8537/8537 [==============================] - 901s 106ms/step - loss: 0.4770 - acc: 0.7784 - val_loss: 0.4685 - val_acc: 0.7814\n",
      "Epoch 26/50\n",
      "8537/8537 [==============================] - 1723s 202ms/step - loss: 0.4784 - acc: 0.7747 - val_loss: 0.5506 - val_acc: 0.7024\n",
      "Epoch 27/50\n",
      "8537/8537 [==============================] - 783s 92ms/step - loss: 0.4799 - acc: 0.7745 - val_loss: 0.4633 - val_acc: 0.7833\n",
      "Epoch 28/50\n",
      "8537/8537 [==============================] - 944s 111ms/step - loss: 0.4638 - acc: 0.7827 - val_loss: 0.4641 - val_acc: 0.7825\n",
      "Epoch 29/50\n",
      "8537/8537 [==============================] - 1048s 123ms/step - loss: 0.4774 - acc: 0.7781 - val_loss: 0.4625 - val_acc: 0.7819\n",
      "Epoch 30/50\n",
      "8537/8537 [==============================] - 1006s 118ms/step - loss: 0.4534 - acc: 0.7879 - val_loss: 0.4519 - val_acc: 0.7920\n",
      "Epoch 31/50\n",
      "8537/8537 [==============================] - 926s 108ms/step - loss: 0.4602 - acc: 0.7853 - val_loss: 0.5736 - val_acc: 0.7248\n",
      "Epoch 32/50\n",
      "8537/8537 [==============================] - 832s 97ms/step - loss: 0.4505 - acc: 0.7963 - val_loss: 0.4694 - val_acc: 0.7833\n",
      "Epoch 33/50\n",
      "8537/8537 [==============================] - 925s 108ms/step - loss: 0.4525 - acc: 0.7860 - val_loss: 0.4571 - val_acc: 0.7893\n",
      "Epoch 34/50\n",
      "8537/8537 [==============================] - 985s 115ms/step - loss: 0.4562 - acc: 0.7860 - val_loss: 0.4550 - val_acc: 0.7909\n",
      "Epoch 35/50\n",
      "8537/8537 [==============================] - 859s 101ms/step - loss: 0.4498 - acc: 0.7910 - val_loss: 0.5262 - val_acc: 0.7521\n",
      "Epoch 36/50\n",
      "8537/8537 [==============================] - 936s 110ms/step - loss: 0.4480 - acc: 0.7938 - val_loss: 0.4732 - val_acc: 0.7663\n",
      "Epoch 37/50\n",
      "8537/8537 [==============================] - 846s 99ms/step - loss: 0.4523 - acc: 0.7915 - val_loss: 0.4513 - val_acc: 0.7939\n",
      "Epoch 38/50\n",
      "8537/8537 [==============================] - 863s 101ms/step - loss: 0.4403 - acc: 0.8003 - val_loss: 0.4404 - val_acc: 0.8008\n",
      "Epoch 39/50\n",
      "8537/8537 [==============================] - 853s 100ms/step - loss: 0.4489 - acc: 0.7931 - val_loss: 0.4784 - val_acc: 0.7764\n",
      "Epoch 40/50\n",
      "8537/8537 [==============================] - 878s 103ms/step - loss: 0.4366 - acc: 0.8024 - val_loss: 0.4425 - val_acc: 0.7989\n",
      "Epoch 41/50\n",
      "8537/8537 [==============================] - 854s 100ms/step - loss: 0.4499 - acc: 0.7901 - val_loss: 0.4414 - val_acc: 0.7991\n",
      "Epoch 42/50\n",
      "8537/8537 [==============================] - 834s 98ms/step - loss: 0.4484 - acc: 0.7900 - val_loss: 0.5360 - val_acc: 0.7456\n",
      "Epoch 43/50\n",
      "8537/8537 [==============================] - 863s 101ms/step - loss: 0.4304 - acc: 0.8052 - val_loss: 0.4528 - val_acc: 0.7923\n",
      "Epoch 44/50\n",
      "8537/8537 [==============================] - 856s 100ms/step - loss: 0.4404 - acc: 0.8009 - val_loss: 0.4558 - val_acc: 0.7896\n",
      "Epoch 45/50\n",
      "8537/8537 [==============================] - 923s 108ms/step - loss: 0.4340 - acc: 0.7962 - val_loss: 0.4312 - val_acc: 0.8068\n",
      "Epoch 46/50\n",
      "8537/8537 [==============================] - 813s 95ms/step - loss: 0.4364 - acc: 0.8031 - val_loss: 0.4410 - val_acc: 0.7948\n",
      "Epoch 47/50\n",
      "8537/8537 [==============================] - 922s 108ms/step - loss: 0.4143 - acc: 0.8121 - val_loss: 0.4335 - val_acc: 0.8040\n",
      "Epoch 48/50\n",
      "8537/8537 [==============================] - 880s 103ms/step - loss: 0.4386 - acc: 0.7975 - val_loss: 0.4515 - val_acc: 0.7846\n",
      "Epoch 49/50\n",
      "8537/8537 [==============================] - 887s 104ms/step - loss: 0.4425 - acc: 0.7985 - val_loss: 0.6639 - val_acc: 0.6529\n",
      "Epoch 50/50\n",
      "8537/8537 [==============================] - 830s 97ms/step - loss: 0.4214 - acc: 0.8114 - val_loss: 0.4681 - val_acc: 0.7710\n"
     ]
    },
    {
     "data": {
      "text/plain": [
       "<keras.callbacks.History at 0x1a3a9e7da0>"
      ]
     },
     "execution_count": 25,
     "metadata": {},
     "output_type": "execute_result"
    }
   ],
   "source": [
    "model.fit(X_train, y_train, epochs=50, batch_size=128,validation_data=(X_valid,y_valid))"
   ]
  },
  {
   "cell_type": "code",
   "execution_count": 26,
   "metadata": {},
   "outputs": [],
   "source": [
    "# increase hidden layers\n",
    "model=Sequential()\n",
    "\n",
    "model.add(Dense(1024, input_dim=224*224*3, activation='sigmoid'))\n",
    "model.add(Dense(1024, activation='sigmoid'))\n",
    "model.add(Dense(units=1, activation='sigmoid'))\n",
    "\n",
    "model.compile(loss='binary_crossentropy', optimizer=\"sgd\", metrics=['accuracy'])"
   ]
  },
  {
   "cell_type": "code",
   "execution_count": 27,
   "metadata": {},
   "outputs": [
    {
     "name": "stdout",
     "output_type": "stream",
     "text": [
      "Train on 8537 samples, validate on 3659 samples\n",
      "Epoch 1/50\n",
      "8537/8537 [==============================] - 836s 98ms/step - loss: 0.6768 - acc: 0.5750 - val_loss: 0.6565 - val_acc: 0.6704\n",
      "Epoch 2/50\n",
      "8537/8537 [==============================] - 827s 97ms/step - loss: 0.6409 - acc: 0.6656 - val_loss: 0.6309 - val_acc: 0.6712\n",
      "Epoch 3/50\n",
      "8537/8537 [==============================] - 1504s 176ms/step - loss: 0.6150 - acc: 0.6963 - val_loss: 0.6228 - val_acc: 0.6412\n",
      "Epoch 4/50\n",
      "8537/8537 [==============================] - 1005s 118ms/step - loss: 0.5969 - acc: 0.7069 - val_loss: 0.5952 - val_acc: 0.7149\n",
      "Epoch 5/50\n",
      "8537/8537 [==============================] - 945s 111ms/step - loss: 0.5799 - acc: 0.7147 - val_loss: 0.5841 - val_acc: 0.7210\n",
      "Epoch 6/50\n",
      "8537/8537 [==============================] - 873s 102ms/step - loss: 0.5674 - acc: 0.7209 - val_loss: 0.5648 - val_acc: 0.7212\n",
      "Epoch 7/50\n",
      "8537/8537 [==============================] - 865s 101ms/step - loss: 0.5551 - acc: 0.7299 - val_loss: 0.5660 - val_acc: 0.7229\n",
      "Epoch 8/50\n",
      "8537/8537 [==============================] - 2217s 260ms/step - loss: 0.5474 - acc: 0.7322 - val_loss: 0.5550 - val_acc: 0.7100\n",
      "Epoch 9/50\n",
      "8537/8537 [==============================] - 812s 95ms/step - loss: 0.5375 - acc: 0.7387 - val_loss: 0.5372 - val_acc: 0.7398\n",
      "Epoch 10/50\n",
      "8537/8537 [==============================] - 836s 98ms/step - loss: 0.5301 - acc: 0.7430 - val_loss: 0.5332 - val_acc: 0.7467\n",
      "Epoch 11/50\n",
      "8537/8537 [==============================] - 897s 105ms/step - loss: 0.5266 - acc: 0.7446 - val_loss: 0.5348 - val_acc: 0.7442\n",
      "Epoch 12/50\n",
      "8537/8537 [==============================] - 830s 97ms/step - loss: 0.5225 - acc: 0.7441 - val_loss: 0.5190 - val_acc: 0.7516\n",
      "Epoch 13/50\n",
      "8537/8537 [==============================] - 840s 98ms/step - loss: 0.5140 - acc: 0.7507 - val_loss: 0.5192 - val_acc: 0.7516\n",
      "Epoch 14/50\n",
      "8537/8537 [==============================] - 911s 107ms/step - loss: 0.5125 - acc: 0.7484 - val_loss: 0.5112 - val_acc: 0.7447\n",
      "Epoch 15/50\n",
      "8537/8537 [==============================] - 812s 95ms/step - loss: 0.5083 - acc: 0.7542 - val_loss: 0.5142 - val_acc: 0.7543\n",
      "Epoch 16/50\n",
      "8537/8537 [==============================] - 875s 103ms/step - loss: 0.5033 - acc: 0.7575 - val_loss: 0.5214 - val_acc: 0.7524\n",
      "Epoch 17/50\n",
      "8537/8537 [==============================] - 959s 112ms/step - loss: 0.5047 - acc: 0.7555 - val_loss: 0.5004 - val_acc: 0.7595\n",
      "Epoch 18/50\n",
      "8537/8537 [==============================] - 826s 97ms/step - loss: 0.4992 - acc: 0.7596 - val_loss: 0.4983 - val_acc: 0.7554\n",
      "Epoch 19/50\n",
      "8537/8537 [==============================] - 845s 99ms/step - loss: 0.4923 - acc: 0.7643 - val_loss: 0.4961 - val_acc: 0.7598\n",
      "Epoch 20/50\n",
      "8537/8537 [==============================] - 847s 99ms/step - loss: 0.4903 - acc: 0.7674 - val_loss: 0.4933 - val_acc: 0.7652\n",
      "Epoch 21/50\n",
      "8537/8537 [==============================] - 833s 98ms/step - loss: 0.4966 - acc: 0.7622 - val_loss: 0.4912 - val_acc: 0.7611\n",
      "Epoch 22/50\n",
      "8537/8537 [==============================] - 891s 104ms/step - loss: 0.4926 - acc: 0.7646 - val_loss: 0.4923 - val_acc: 0.7565\n",
      "Epoch 23/50\n",
      "8537/8537 [==============================] - 842s 99ms/step - loss: 0.4964 - acc: 0.7594 - val_loss: 0.4940 - val_acc: 0.7559\n",
      "Epoch 24/50\n",
      "8537/8537 [==============================] - 888s 104ms/step - loss: 0.4837 - acc: 0.7711 - val_loss: 0.4908 - val_acc: 0.7685\n",
      "Epoch 25/50\n",
      "8537/8537 [==============================] - 2588s 303ms/step - loss: 0.4888 - acc: 0.7692 - val_loss: 0.5502 - val_acc: 0.7426\n",
      "Epoch 26/50\n",
      "8537/8537 [==============================] - 957s 112ms/step - loss: 0.4843 - acc: 0.7703 - val_loss: 0.5249 - val_acc: 0.7549\n",
      "Epoch 27/50\n",
      "8537/8537 [==============================] - 2258s 264ms/step - loss: 0.5020 - acc: 0.7572 - val_loss: 0.4840 - val_acc: 0.7625\n",
      "Epoch 28/50\n",
      "8537/8537 [==============================] - 15373s 2s/step - loss: 0.4861 - acc: 0.7675 - val_loss: 0.4832 - val_acc: 0.7729\n",
      "Epoch 29/50\n",
      "8537/8537 [==============================] - 7266s 851ms/step - loss: 0.4796 - acc: 0.7724 - val_loss: 0.4794 - val_acc: 0.7729\n",
      "Epoch 30/50\n",
      "8537/8537 [==============================] - 866s 101ms/step - loss: 0.4769 - acc: 0.7721 - val_loss: 0.4782 - val_acc: 0.7734\n",
      "Epoch 31/50\n",
      "8537/8537 [==============================] - 840s 98ms/step - loss: 0.4847 - acc: 0.7671 - val_loss: 0.4999 - val_acc: 0.7671\n",
      "Epoch 32/50\n",
      "8537/8537 [==============================] - 845s 99ms/step - loss: 0.4813 - acc: 0.7722 - val_loss: 0.4755 - val_acc: 0.7770\n",
      "Epoch 33/50\n",
      "8537/8537 [==============================] - 767s 90ms/step - loss: 0.4725 - acc: 0.7787 - val_loss: 0.4920 - val_acc: 0.7734\n",
      "Epoch 34/50\n",
      "8537/8537 [==============================] - 766s 90ms/step - loss: 0.4755 - acc: 0.7778 - val_loss: 0.4767 - val_acc: 0.7685\n",
      "Epoch 35/50\n",
      "8537/8537 [==============================] - 1414s 166ms/step - loss: 0.4770 - acc: 0.7745 - val_loss: 0.4799 - val_acc: 0.7688\n",
      "Epoch 36/50\n",
      "8537/8537 [==============================] - 978s 115ms/step - loss: 0.4743 - acc: 0.7771 - val_loss: 0.4822 - val_acc: 0.7734\n",
      "Epoch 37/50\n",
      "8537/8537 [==============================] - 886s 104ms/step - loss: 0.4718 - acc: 0.7811 - val_loss: 0.4731 - val_acc: 0.7710\n",
      "Epoch 38/50\n",
      "8537/8537 [==============================] - 1752s 205ms/step - loss: 0.4745 - acc: 0.7778 - val_loss: 0.5021 - val_acc: 0.7409\n",
      "Epoch 39/50\n",
      "8537/8537 [==============================] - 865s 101ms/step - loss: 0.4855 - acc: 0.7717 - val_loss: 0.4687 - val_acc: 0.7819\n",
      "Epoch 40/50\n",
      "8537/8537 [==============================] - 2086s 244ms/step - loss: 0.4638 - acc: 0.7845 - val_loss: 0.4684 - val_acc: 0.7767\n",
      "Epoch 41/50\n",
      "8537/8537 [==============================] - 841s 98ms/step - loss: 0.4620 - acc: 0.7861 - val_loss: 0.4723 - val_acc: 0.7721\n",
      "Epoch 42/50\n",
      "8537/8537 [==============================] - 1242s 145ms/step - loss: 0.4640 - acc: 0.7805 - val_loss: 0.5344 - val_acc: 0.7513\n",
      "Epoch 43/50\n",
      "8537/8537 [==============================] - 828s 97ms/step - loss: 0.4728 - acc: 0.7777 - val_loss: 0.4677 - val_acc: 0.7770\n",
      "Epoch 44/50\n",
      "8537/8537 [==============================] - 830s 97ms/step - loss: 0.4649 - acc: 0.7831 - val_loss: 0.4659 - val_acc: 0.7835\n",
      "Epoch 45/50\n",
      "8537/8537 [==============================] - 839s 98ms/step - loss: 0.4619 - acc: 0.7838 - val_loss: 0.4677 - val_acc: 0.7841\n",
      "Epoch 46/50\n",
      "8537/8537 [==============================] - 865s 101ms/step - loss: 0.4632 - acc: 0.7827 - val_loss: 0.4620 - val_acc: 0.7838\n",
      "Epoch 47/50\n",
      "8537/8537 [==============================] - 849s 99ms/step - loss: 0.4673 - acc: 0.7822 - val_loss: 0.4835 - val_acc: 0.7759\n",
      "Epoch 48/50\n",
      "8537/8537 [==============================] - 851s 100ms/step - loss: 0.4576 - acc: 0.7875 - val_loss: 0.4665 - val_acc: 0.7762\n",
      "Epoch 49/50\n",
      "8537/8537 [==============================] - 827s 97ms/step - loss: 0.4651 - acc: 0.7890 - val_loss: 0.4596 - val_acc: 0.7868\n",
      "Epoch 50/50\n",
      "8537/8537 [==============================] - 858s 100ms/step - loss: 0.4542 - acc: 0.7886 - val_loss: 0.4680 - val_acc: 0.7822\n"
     ]
    },
    {
     "data": {
      "text/plain": [
       "<keras.callbacks.History at 0x1a41cddbe0>"
      ]
     },
     "execution_count": 27,
     "metadata": {},
     "output_type": "execute_result"
    }
   ],
   "source": [
    "model.fit(X_train, y_train, epochs=50, batch_size=128,validation_data=(X_valid,y_valid))"
   ]
  },
  {
   "cell_type": "code",
   "execution_count": 28,
   "metadata": {},
   "outputs": [],
   "source": [
    "from keras.optimizers import Adam"
   ]
  },
  {
   "cell_type": "code",
   "execution_count": 29,
   "metadata": {},
   "outputs": [],
   "source": [
    "adam = Adam(lr=1e-5)"
   ]
  },
  {
   "cell_type": "code",
   "execution_count": 30,
   "metadata": {},
   "outputs": [],
   "source": [
    "# change optimizer\n",
    "model=Sequential()\n",
    "\n",
    "model.add(Dense(1024, input_dim=224*224*3, activation='sigmoid'))\n",
    "model.add(Dense(1024, activation='sigmoid'))\n",
    "model.add(Dense(units=1, activation='sigmoid'))\n",
    "\n",
    "model.compile(loss='binary_crossentropy', optimizer=adam, metrics=['accuracy'])"
   ]
  },
  {
   "cell_type": "code",
   "execution_count": 31,
   "metadata": {
    "scrolled": false
   },
   "outputs": [
    {
     "name": "stdout",
     "output_type": "stream",
     "text": [
      "Train on 8537 samples, validate on 3659 samples\n",
      "Epoch 1/50\n",
      "8537/8537 [==============================] - 1547s 181ms/step - loss: 0.6177 - acc: 0.6557 - val_loss: 0.5791 - val_acc: 0.6939\n",
      "Epoch 2/50\n",
      "8537/8537 [==============================] - 2186s 256ms/step - loss: 0.5410 - acc: 0.7353 - val_loss: 0.5385 - val_acc: 0.7363\n",
      "Epoch 3/50\n",
      "8537/8537 [==============================] - 2553s 299ms/step - loss: 0.5185 - acc: 0.7489 - val_loss: 0.5088 - val_acc: 0.7587\n",
      "Epoch 4/50\n",
      "8537/8537 [==============================] - 2360s 276ms/step - loss: 0.5067 - acc: 0.7524 - val_loss: 0.5049 - val_acc: 0.7557\n",
      "Epoch 5/50\n",
      "8537/8537 [==============================] - 2208s 259ms/step - loss: 0.4926 - acc: 0.7624 - val_loss: 0.4954 - val_acc: 0.7524\n",
      "Epoch 6/50\n",
      "8537/8537 [==============================] - 2423s 284ms/step - loss: 0.4852 - acc: 0.7712 - val_loss: 0.4889 - val_acc: 0.7680\n",
      "Epoch 7/50\n",
      "8537/8537 [==============================] - 2457s 288ms/step - loss: 0.4789 - acc: 0.7749 - val_loss: 0.4790 - val_acc: 0.7745\n",
      "Epoch 8/50\n",
      "8537/8537 [==============================] - 2525s 296ms/step - loss: 0.4699 - acc: 0.7780 - val_loss: 0.4933 - val_acc: 0.7636\n",
      "Epoch 9/50\n",
      "8537/8537 [==============================] - 2603s 305ms/step - loss: 0.4625 - acc: 0.7826 - val_loss: 0.4707 - val_acc: 0.7773\n",
      "Epoch 10/50\n",
      "8537/8537 [==============================] - 2353s 276ms/step - loss: 0.4706 - acc: 0.7762 - val_loss: 0.4985 - val_acc: 0.7650\n",
      "Epoch 11/50\n",
      "8537/8537 [==============================] - 2511s 294ms/step - loss: 0.4503 - acc: 0.7934 - val_loss: 0.4573 - val_acc: 0.7890\n",
      "Epoch 12/50\n",
      "8537/8537 [==============================] - 2680s 314ms/step - loss: 0.4454 - acc: 0.7957 - val_loss: 0.4601 - val_acc: 0.7868\n",
      "Epoch 13/50\n",
      "8537/8537 [==============================] - 2476s 290ms/step - loss: 0.4425 - acc: 0.7971 - val_loss: 0.4494 - val_acc: 0.7997\n",
      "Epoch 14/50\n",
      "8537/8537 [==============================] - 2166s 254ms/step - loss: 0.4309 - acc: 0.8063 - val_loss: 0.4559 - val_acc: 0.7887\n",
      "Epoch 15/50\n",
      "8537/8537 [==============================] - 2094s 245ms/step - loss: 0.4267 - acc: 0.8077 - val_loss: 0.4561 - val_acc: 0.7808\n",
      "Epoch 16/50\n",
      "8537/8537 [==============================] - 2247s 263ms/step - loss: 0.4248 - acc: 0.8078 - val_loss: 0.4501 - val_acc: 0.7958\n",
      "Epoch 17/50\n",
      "8537/8537 [==============================] - 2235s 262ms/step - loss: 0.4176 - acc: 0.8132 - val_loss: 0.4483 - val_acc: 0.7841\n",
      "Epoch 18/50\n",
      "8537/8537 [==============================] - 2564s 300ms/step - loss: 0.4109 - acc: 0.8153 - val_loss: 0.4575 - val_acc: 0.7904\n",
      "Epoch 19/50\n",
      "8537/8537 [==============================] - 2442s 286ms/step - loss: 0.4067 - acc: 0.8195 - val_loss: 0.4326 - val_acc: 0.7999\n",
      "Epoch 20/50\n",
      "8537/8537 [==============================] - 2207s 258ms/step - loss: 0.3976 - acc: 0.8268 - val_loss: 0.4248 - val_acc: 0.8144\n",
      "Epoch 21/50\n",
      "8537/8537 [==============================] - 2308s 270ms/step - loss: 0.3985 - acc: 0.8204 - val_loss: 0.4792 - val_acc: 0.7658\n",
      "Epoch 22/50\n",
      "8537/8537 [==============================] - 2084s 244ms/step - loss: 0.4010 - acc: 0.8216 - val_loss: 0.4598 - val_acc: 0.7786\n",
      "Epoch 23/50\n",
      "8537/8537 [==============================] - 1994s 234ms/step - loss: 0.3937 - acc: 0.8268 - val_loss: 0.4150 - val_acc: 0.8172\n",
      "Epoch 24/50\n",
      "8537/8537 [==============================] - 2214s 259ms/step - loss: 0.3778 - acc: 0.8391 - val_loss: 0.4116 - val_acc: 0.8158\n",
      "Epoch 25/50\n",
      "8537/8537 [==============================] - 8918s 1s/step - loss: 0.3794 - acc: 0.8345 - val_loss: 0.4178 - val_acc: 0.8213\n",
      "Epoch 26/50\n",
      "8537/8537 [==============================] - 5151s 603ms/step - loss: 0.3822 - acc: 0.8298 - val_loss: 0.4099 - val_acc: 0.8188\n",
      "Epoch 27/50\n",
      "8537/8537 [==============================] - 8767s 1s/step - loss: 0.3698 - acc: 0.8412 - val_loss: 0.4074 - val_acc: 0.8193\n",
      "Epoch 28/50\n",
      "8537/8537 [==============================] - 2728s 320ms/step - loss: 0.3615 - acc: 0.8442 - val_loss: 0.4005 - val_acc: 0.8248\n",
      "Epoch 29/50\n",
      "8537/8537 [==============================] - 2657s 311ms/step - loss: 0.3628 - acc: 0.8463 - val_loss: 0.4067 - val_acc: 0.8213\n",
      "Epoch 30/50\n",
      "8537/8537 [==============================] - 3000s 351ms/step - loss: 0.3737 - acc: 0.8355 - val_loss: 0.3995 - val_acc: 0.8265\n",
      "Epoch 31/50\n",
      "8537/8537 [==============================] - 3861s 452ms/step - loss: 0.3575 - acc: 0.8444 - val_loss: 0.3984 - val_acc: 0.8254\n",
      "Epoch 32/50\n",
      "8537/8537 [==============================] - 2838s 332ms/step - loss: 0.3552 - acc: 0.8470 - val_loss: 0.3974 - val_acc: 0.8300\n",
      "Epoch 33/50\n",
      "8537/8537 [==============================] - 2810s 329ms/step - loss: 0.3466 - acc: 0.8538 - val_loss: 0.4024 - val_acc: 0.8243\n",
      "Epoch 34/50\n",
      "8537/8537 [==============================] - 2744s 321ms/step - loss: 0.3418 - acc: 0.8532 - val_loss: 0.4454 - val_acc: 0.7915\n",
      "Epoch 35/50\n",
      "8537/8537 [==============================] - 2872s 336ms/step - loss: 0.3446 - acc: 0.8519 - val_loss: 0.4008 - val_acc: 0.8218\n",
      "Epoch 36/50\n",
      "8537/8537 [==============================] - 2793s 327ms/step - loss: 0.3416 - acc: 0.8571 - val_loss: 0.3943 - val_acc: 0.8349\n",
      "Epoch 37/50\n",
      "8537/8537 [==============================] - 2614s 306ms/step - loss: 0.3316 - acc: 0.8621 - val_loss: 0.3845 - val_acc: 0.8327\n",
      "Epoch 38/50\n",
      "8537/8537 [==============================] - 2733s 320ms/step - loss: 0.3338 - acc: 0.8583 - val_loss: 0.3819 - val_acc: 0.8368\n",
      "Epoch 39/50\n",
      "8537/8537 [==============================] - 2846s 333ms/step - loss: 0.3281 - acc: 0.8639 - val_loss: 0.3837 - val_acc: 0.8295\n",
      "Epoch 40/50\n",
      "8537/8537 [==============================] - 2673s 313ms/step - loss: 0.3257 - acc: 0.8612 - val_loss: 0.4363 - val_acc: 0.8030\n",
      "Epoch 41/50\n",
      "8537/8537 [==============================] - 2530s 296ms/step - loss: 0.3251 - acc: 0.8670 - val_loss: 0.3833 - val_acc: 0.8360\n",
      "Epoch 42/50\n",
      "8537/8537 [==============================] - 2629s 308ms/step - loss: 0.3180 - acc: 0.8673 - val_loss: 0.4263 - val_acc: 0.8049\n",
      "Epoch 43/50\n",
      "8537/8537 [==============================] - 2634s 309ms/step - loss: 0.3115 - acc: 0.8700 - val_loss: 0.3894 - val_acc: 0.8347\n",
      "Epoch 44/50\n",
      "8537/8537 [==============================] - 2628s 308ms/step - loss: 0.3156 - acc: 0.8685 - val_loss: 0.3829 - val_acc: 0.8327\n",
      "Epoch 45/50\n",
      "8537/8537 [==============================] - 2635s 309ms/step - loss: 0.3058 - acc: 0.8756 - val_loss: 0.3853 - val_acc: 0.8316\n",
      "Epoch 46/50\n",
      "8537/8537 [==============================] - 2770s 324ms/step - loss: 0.2987 - acc: 0.8789 - val_loss: 0.3844 - val_acc: 0.8327\n",
      "Epoch 47/50\n",
      "8537/8537 [==============================] - 2626s 308ms/step - loss: 0.3019 - acc: 0.8768 - val_loss: 0.3715 - val_acc: 0.8459\n",
      "Epoch 48/50\n",
      "8537/8537 [==============================] - 2625s 307ms/step - loss: 0.3012 - acc: 0.8764 - val_loss: 0.3761 - val_acc: 0.8327\n",
      "Epoch 49/50\n",
      "8537/8537 [==============================] - 2620s 307ms/step - loss: 0.2928 - acc: 0.8802 - val_loss: 0.3703 - val_acc: 0.8366\n",
      "Epoch 50/50\n",
      "8537/8537 [==============================] - 2903s 340ms/step - loss: 0.2943 - acc: 0.8792 - val_loss: 0.3691 - val_acc: 0.8401\n"
     ]
    },
    {
     "data": {
      "text/plain": [
       "<keras.callbacks.History at 0x1a4206f160>"
      ]
     },
     "execution_count": 31,
     "metadata": {},
     "output_type": "execute_result"
    }
   ],
   "source": [
    "model.fit(X_train, y_train, epochs=50, batch_size=128,validation_data=(X_valid,y_valid))"
   ]
  },
  {
   "cell_type": "code",
   "execution_count": 35,
   "metadata": {},
   "outputs": [],
   "source": [
    "#load test data file\n",
    "test_data = pd.read_csv('face_recognition/test.csv')"
   ]
  },
  {
   "cell_type": "code",
   "execution_count": 36,
   "metadata": {},
   "outputs": [],
   "source": [
    "# load images and store it in numpy array\n",
    "test_X = []\n",
    "for img_name in test_data.image_names:\n",
    "    test_img = plt.imread('face_recognition/images/' + img_name)\n",
    "    test_X.append(test_img)\n",
    "    \n",
    "test_data=np.array(test_X)\n"
   ]
  },
  {
   "cell_type": "code",
   "execution_count": 37,
   "metadata": {},
   "outputs": [],
   "source": [
    "# reshape to one single row\n",
    "test_data = test_data.reshape(5227, 224*224*3)"
   ]
  },
  {
   "cell_type": "code",
   "execution_count": 39,
   "metadata": {},
   "outputs": [],
   "source": [
    "# preprocessing\n",
    "test_data = test_data / test_data.max()"
   ]
  },
  {
   "cell_type": "code",
   "execution_count": 40,
   "metadata": {},
   "outputs": [],
   "source": [
    "# making predictions\n",
    "prediction = model.predict_classes(test_data)"
   ]
  },
  {
   "cell_type": "code",
   "execution_count": 43,
   "metadata": {},
   "outputs": [],
   "source": [
    "# creating submission file\n",
    "sample = pd.read_csv('face_recognition/sample_submission_yAxnSkN.csv')\n",
    "sample['class'] = prediction\n",
    "sample.to_csv('face_recognition/GC_project.csv', header=True, index=False)"
   ]
  },
  {
   "cell_type": "code",
   "execution_count": null,
   "metadata": {},
   "outputs": [],
   "source": []
  }
 ],
 "metadata": {
  "kernelspec": {
   "display_name": "Python 3",
   "language": "python",
   "name": "python3"
  },
  "language_info": {
   "codemirror_mode": {
    "name": "ipython",
    "version": 3
   },
   "file_extension": ".py",
   "mimetype": "text/x-python",
   "name": "python",
   "nbconvert_exporter": "python",
   "pygments_lexer": "ipython3",
   "version": "3.7.3"
  }
 },
 "nbformat": 4,
 "nbformat_minor": 2
}
